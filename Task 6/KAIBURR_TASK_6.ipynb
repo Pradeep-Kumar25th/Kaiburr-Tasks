{
  "nbformat": 4,
  "nbformat_minor": 0,
  "metadata": {
    "colab": {
      "provenance": []
    },
    "kernelspec": {
      "name": "python3",
      "display_name": "Python 3"
    },
    "language_info": {
      "name": "python"
    }
  },
  "cells": [
    {
      "cell_type": "code",
      "execution_count": 1,
      "metadata": {
        "id": "2xpuBkMVg3Tz"
      },
      "outputs": [],
      "source": [
        "# Importing necessary libraries\n",
        "import pandas as pd\n",
        "from sklearn.model_selection import train_test_split\n",
        "from sklearn.feature_extraction.text import TfidfVectorizer\n",
        "from sklearn.naive_bayes import MultinomialNB\n",
        "from sklearn.metrics import classification_report"
      ]
    },
    {
      "cell_type": "code",
      "source": [
        "# Loading the dataset\n",
        "url = \"https://files.consumerfinance.gov/ccdb/complaints.csv\"\n",
        "df = pd.read_csv(url)"
      ],
      "metadata": {
        "id": "3mlqkCz0zNHi",
        "colab": {
          "base_uri": "https://localhost:8080/"
        },
        "outputId": "6adf9f70-07d7-4ab0-f119-f5fd9754441d"
      },
      "execution_count": 2,
      "outputs": [
        {
          "output_type": "stream",
          "name": "stderr",
          "text": [
            "<ipython-input-2-46aac5997f6d>:3: DtypeWarning: Columns (16) have mixed types. Specify dtype option on import or set low_memory=False.\n",
            "  df = pd.read_csv(url)\n"
          ]
        }
      ]
    },
    {
      "cell_type": "code",
      "source": [
        " #Explanatory Data Analysis and Feature Engineering\n",
        "\n",
        "# Handling missing values in 'Consumer complaint narrative'\n",
        "df['Consumer complaint narrative'].fillna('', inplace=True)\n",
        "\n",
        "# Text Pre-processing\n",
        "# Use the 'Consumer complaint narrative' column for complaint text\n",
        "X = df['Consumer complaint narrative']\n",
        "y = df['Product']  # Using the 'Product' column as the target variable"
      ],
      "metadata": {
        "id": "0M3RHBkPzTPF"
      },
      "execution_count": 3,
      "outputs": []
    },
    {
      "cell_type": "code",
      "source": [
        "# Splitting the data into training and testing sets\n",
        "X_train, X_test, y_train, y_test = train_test_split(X, y, test_size=0.2, random_state=42)\n",
        "\n",
        "# Text Vectorization using TF-IDF\n",
        "tfidf_vectorizer = TfidfVectorizer(max_features=5000)  # You can adjust the max_features\n",
        "X_train_tfidf = tfidf_vectorizer.fit_transform(X_train)\n",
        "X_test_tfidf = tfidf_vectorizer.transform(X_test)"
      ],
      "metadata": {
        "id": "MyjVEswDzX9f"
      },
      "execution_count": 4,
      "outputs": []
    },
    {
      "cell_type": "code",
      "source": [
        "# Training a Multi-Classification Model (e.g., Multinomial Naive Bayes)\n",
        "classifier = MultinomialNB()\n",
        "classifier.fit(X_train_tfidf, y_train)"
      ],
      "metadata": {
        "id": "m3WHTmGMzakk",
        "colab": {
          "base_uri": "https://localhost:8080/",
          "height": 74
        },
        "outputId": "f37b9ecf-a08c-4b65-d29a-0e9a1fe5d752"
      },
      "execution_count": 5,
      "outputs": [
        {
          "output_type": "execute_result",
          "data": {
            "text/plain": [
              "MultinomialNB()"
            ],
            "text/html": [
              "<style>#sk-container-id-1 {color: black;background-color: white;}#sk-container-id-1 pre{padding: 0;}#sk-container-id-1 div.sk-toggleable {background-color: white;}#sk-container-id-1 label.sk-toggleable__label {cursor: pointer;display: block;width: 100%;margin-bottom: 0;padding: 0.3em;box-sizing: border-box;text-align: center;}#sk-container-id-1 label.sk-toggleable__label-arrow:before {content: \"▸\";float: left;margin-right: 0.25em;color: #696969;}#sk-container-id-1 label.sk-toggleable__label-arrow:hover:before {color: black;}#sk-container-id-1 div.sk-estimator:hover label.sk-toggleable__label-arrow:before {color: black;}#sk-container-id-1 div.sk-toggleable__content {max-height: 0;max-width: 0;overflow: hidden;text-align: left;background-color: #f0f8ff;}#sk-container-id-1 div.sk-toggleable__content pre {margin: 0.2em;color: black;border-radius: 0.25em;background-color: #f0f8ff;}#sk-container-id-1 input.sk-toggleable__control:checked~div.sk-toggleable__content {max-height: 200px;max-width: 100%;overflow: auto;}#sk-container-id-1 input.sk-toggleable__control:checked~label.sk-toggleable__label-arrow:before {content: \"▾\";}#sk-container-id-1 div.sk-estimator input.sk-toggleable__control:checked~label.sk-toggleable__label {background-color: #d4ebff;}#sk-container-id-1 div.sk-label input.sk-toggleable__control:checked~label.sk-toggleable__label {background-color: #d4ebff;}#sk-container-id-1 input.sk-hidden--visually {border: 0;clip: rect(1px 1px 1px 1px);clip: rect(1px, 1px, 1px, 1px);height: 1px;margin: -1px;overflow: hidden;padding: 0;position: absolute;width: 1px;}#sk-container-id-1 div.sk-estimator {font-family: monospace;background-color: #f0f8ff;border: 1px dotted black;border-radius: 0.25em;box-sizing: border-box;margin-bottom: 0.5em;}#sk-container-id-1 div.sk-estimator:hover {background-color: #d4ebff;}#sk-container-id-1 div.sk-parallel-item::after {content: \"\";width: 100%;border-bottom: 1px solid gray;flex-grow: 1;}#sk-container-id-1 div.sk-label:hover label.sk-toggleable__label {background-color: #d4ebff;}#sk-container-id-1 div.sk-serial::before {content: \"\";position: absolute;border-left: 1px solid gray;box-sizing: border-box;top: 0;bottom: 0;left: 50%;z-index: 0;}#sk-container-id-1 div.sk-serial {display: flex;flex-direction: column;align-items: center;background-color: white;padding-right: 0.2em;padding-left: 0.2em;position: relative;}#sk-container-id-1 div.sk-item {position: relative;z-index: 1;}#sk-container-id-1 div.sk-parallel {display: flex;align-items: stretch;justify-content: center;background-color: white;position: relative;}#sk-container-id-1 div.sk-item::before, #sk-container-id-1 div.sk-parallel-item::before {content: \"\";position: absolute;border-left: 1px solid gray;box-sizing: border-box;top: 0;bottom: 0;left: 50%;z-index: -1;}#sk-container-id-1 div.sk-parallel-item {display: flex;flex-direction: column;z-index: 1;position: relative;background-color: white;}#sk-container-id-1 div.sk-parallel-item:first-child::after {align-self: flex-end;width: 50%;}#sk-container-id-1 div.sk-parallel-item:last-child::after {align-self: flex-start;width: 50%;}#sk-container-id-1 div.sk-parallel-item:only-child::after {width: 0;}#sk-container-id-1 div.sk-dashed-wrapped {border: 1px dashed gray;margin: 0 0.4em 0.5em 0.4em;box-sizing: border-box;padding-bottom: 0.4em;background-color: white;}#sk-container-id-1 div.sk-label label {font-family: monospace;font-weight: bold;display: inline-block;line-height: 1.2em;}#sk-container-id-1 div.sk-label-container {text-align: center;}#sk-container-id-1 div.sk-container {/* jupyter's `normalize.less` sets `[hidden] { display: none; }` but bootstrap.min.css set `[hidden] { display: none !important; }` so we also need the `!important` here to be able to override the default hidden behavior on the sphinx rendered scikit-learn.org. See: https://github.com/scikit-learn/scikit-learn/issues/21755 */display: inline-block !important;position: relative;}#sk-container-id-1 div.sk-text-repr-fallback {display: none;}</style><div id=\"sk-container-id-1\" class=\"sk-top-container\"><div class=\"sk-text-repr-fallback\"><pre>MultinomialNB()</pre><b>In a Jupyter environment, please rerun this cell to show the HTML representation or trust the notebook. <br />On GitHub, the HTML representation is unable to render, please try loading this page with nbviewer.org.</b></div><div class=\"sk-container\" hidden><div class=\"sk-item\"><div class=\"sk-estimator sk-toggleable\"><input class=\"sk-toggleable__control sk-hidden--visually\" id=\"sk-estimator-id-1\" type=\"checkbox\" checked><label for=\"sk-estimator-id-1\" class=\"sk-toggleable__label sk-toggleable__label-arrow\">MultinomialNB</label><div class=\"sk-toggleable__content\"><pre>MultinomialNB()</pre></div></div></div></div></div>"
            ]
          },
          "metadata": {},
          "execution_count": 5
        }
      ]
    },
    {
      "cell_type": "code",
      "source": [
        "# Predicting categories on the test set\n",
        "y_pred = classifier.predict(X_test_tfidf)"
      ],
      "metadata": {
        "id": "wZLb0Tj0zceA"
      },
      "execution_count": 6,
      "outputs": []
    },
    {
      "cell_type": "code",
      "source": [
        "# Model Evaluation\n",
        "print(classification_report(y_test, y_pred, zero_division=1))"
      ],
      "metadata": {
        "id": "Lu0UXg1fzfGJ",
        "colab": {
          "base_uri": "https://localhost:8080/"
        },
        "outputId": "43c496e3-d3d8-4a9d-bdde-136b5435601f"
      },
      "execution_count": 7,
      "outputs": [
        {
          "output_type": "stream",
          "name": "stdout",
          "text": [
            "                                                                              precision    recall  f1-score   support\n",
            "\n",
            "                                                     Bank account or service       0.60      0.02      0.05     17336\n",
            "                                                 Checking or savings account       0.62      0.33      0.43     36623\n",
            "                                                               Consumer Loan       0.63      0.01      0.01      6363\n",
            "                                                                 Credit card       0.66      0.02      0.04     18373\n",
            "                                                 Credit card or prepaid card       0.64      0.33      0.44     41473\n",
            "                                                            Credit reporting       0.56      0.01      0.01     28017\n",
            "                         Credit reporting or other personal consumer reports       0.19      0.00      0.00     14473\n",
            "Credit reporting, credit repair services, or other personal consumer reports       0.61      0.98      0.75    433405\n",
            "                                                             Debt collection       0.76      0.28      0.41    101727\n",
            "                                                   Debt or credit management       1.00      0.00      0.00         7\n",
            "                          Money transfer, virtual currency, or money service       0.85      0.25      0.38     11886\n",
            "                                                             Money transfers       1.00      0.00      0.00      1072\n",
            "                                                                    Mortgage       0.68      0.27      0.38     76533\n",
            "                                                     Other financial service       1.00      0.00      0.00       197\n",
            "                                                                 Payday loan       1.00      0.00      0.00      1138\n",
            "                                   Payday loan, title loan, or personal loan       0.68      0.03      0.05      6085\n",
            "                     Payday loan, title loan, personal loan, or advance loan       1.00      0.00      0.00        64\n",
            "                                                                Prepaid card       1.00      0.00      0.00       800\n",
            "                                                                Student loan       0.86      0.33      0.47     15159\n",
            "                                                       Vehicle loan or lease       0.62      0.20      0.31      9539\n",
            "                                                            Virtual currency       1.00      0.00      0.00         7\n",
            "\n",
            "                                                                    accuracy                           0.62    820277\n",
            "                                                                   macro avg       0.76      0.15      0.18    820277\n",
            "                                                                weighted avg       0.64      0.62      0.54    820277\n",
            "\n"
          ]
        }
      ]
    },
    {
      "cell_type": "code",
      "source": [
        "# Prediction\n",
        "# Assuming you have a new complaint text in 'new_complaint_text'\n",
        "new_complaint = [\"This is a new complaint text.\"]\n",
        "new_complaint_tfidf = tfidf_vectorizer.transform(new_complaint)\n",
        "predicted_category = classifier.predict(new_complaint_tfidf)\n",
        "print(\"Predicted Category:\", predicted_category[0])"
      ],
      "metadata": {
        "colab": {
          "base_uri": "https://localhost:8080/"
        },
        "id": "9W4KHMVOzh4m",
        "outputId": "06db40ef-a01b-46b3-f0ee-18052ddc8e7b"
      },
      "execution_count": 8,
      "outputs": [
        {
          "output_type": "stream",
          "name": "stdout",
          "text": [
            "Predicted Category: Credit reporting, credit repair services, or other personal consumer reports\n"
          ]
        }
      ]
    },
    {
      "cell_type": "code",
      "source": [],
      "metadata": {
        "id": "8iMt7rd_l7xa"
      },
      "execution_count": null,
      "outputs": []
    }
  ]
}